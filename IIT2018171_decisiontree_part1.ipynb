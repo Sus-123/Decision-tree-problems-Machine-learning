{
  "nbformat": 4,
  "nbformat_minor": 0,
  "metadata": {
    "colab": {
      "name": "IIT2018171_decisiontree_part1.ipynb",
      "provenance": []
    },
    "kernelspec": {
      "name": "python3",
      "display_name": "Python 3"
    }
  },
  "cells": [
    {
      "cell_type": "code",
      "metadata": {
        "id": "tzdQYWqbjKUA"
      },
      "source": [
        "import pandas as pd\n",
        "import numpy as np\n",
        "from csv import DictReader\n",
        "from math import log2\n",
        "#Sushant Singh(IIT2018171)"
      ],
      "execution_count": 6,
      "outputs": []
    },
    {
      "cell_type": "code",
      "metadata": {
        "id": "OgVBhFAvjucm"
      },
      "source": [
        "#Question 1 Gini Impurity //Reference has been taken from geek-for-geeks and some other github \n",
        "def Gini_impurity(positive_left,positive_right,negative_left,negative_right):\n",
        "    x1=positive_left+negative_left \n",
        "    x2=positive_right+negative_right\n",
        "    y1=1 - (positive_left / x1) ** 2 - (negative_left / x1) ** 2\n",
        "    y2=1 - (positive_right / x2) ** 2 - (negative_right / x2) ** 2\n",
        "    impurity = x1 / (x1 + x2) * y1 + x2 / (x1 + x2) * y2\n",
        "    return impurity"
      ],
      "execution_count": 17,
      "outputs": []
    },
    {
      "cell_type": "code",
      "metadata": {
        "id": "xEuYpYL1kwjL",
        "outputId": "89d2edff-8575-482a-a10e-42c0481cae56",
        "colab": {
          "base_uri": "https://localhost:8080/"
        }
      },
      "source": [
        "Head_01=['age','sex','chest_pain','asymptomatic','chol','fbs','restecg','thalach','exang','oldpeak','slope','ca','thal','label']\n",
        "data_read=pd.read_csv('cleveland.csv',sep=',',header=None,names=Head_01)\n",
        "print(data_read.head())\n"
      ],
      "execution_count": 28,
      "outputs": [
        {
          "output_type": "stream",
          "text": [
            "    age  sex  chest_pain  asymptomatic   chol  ...  oldpeak  slope   ca  thal  label\n",
            "0  63.0  1.0         1.0         145.0  233.0  ...      2.3    3.0  0.0   6.0      0\n",
            "1  67.0  1.0         4.0         160.0  286.0  ...      1.5    2.0  3.0   3.0      1\n",
            "2  67.0  1.0         4.0         120.0  229.0  ...      2.6    2.0  2.0   7.0      1\n",
            "3  37.0  1.0         3.0         130.0  250.0  ...      3.5    3.0  0.0   3.0      0\n",
            "4  41.0  0.0         2.0         130.0  204.0  ...      1.4    1.0  0.0   3.0      0\n",
            "\n",
            "[5 rows x 14 columns]\n"
          ],
          "name": "stdout"
        }
      ]
    },
    {
      "cell_type": "code",
      "metadata": {
        "id": "1oP94_4-k3kg",
        "outputId": "b9016a03-632b-487e-e477-9ce70942a0e8",
        "colab": {
          "base_uri": "https://localhost:8080/"
        }
      },
      "source": [
        "data_read.loc[df['label'] > 0, 'label'] = 1\n",
        "print(data_read.head())  "
      ],
      "execution_count": 29,
      "outputs": [
        {
          "output_type": "stream",
          "text": [
            "    age  sex  chest_pain  asymptomatic   chol  ...  oldpeak  slope   ca  thal  label\n",
            "0  63.0  1.0         1.0         145.0  233.0  ...      2.3    3.0  0.0   6.0      0\n",
            "1  67.0  1.0         4.0         160.0  286.0  ...      1.5    2.0  3.0   3.0      1\n",
            "2  67.0  1.0         4.0         120.0  229.0  ...      2.6    2.0  2.0   7.0      1\n",
            "3  37.0  1.0         3.0         130.0  250.0  ...      3.5    3.0  0.0   3.0      0\n",
            "4  41.0  0.0         2.0         130.0  204.0  ...      1.4    1.0  0.0   3.0      0\n",
            "\n",
            "[5 rows x 14 columns]\n"
          ],
          "name": "stdout"
        }
      ]
    },
    {
      "cell_type": "code",
      "metadata": {
        "id": "QLNjO0zzlHg9",
        "outputId": "f57e8966-3156-4439-895c-987961293a93",
        "colab": {
          "base_uri": "https://localhost:8080/"
        }
      },
      "source": [
        "# saparation of  training and test data \n",
        "x_train=data_read.sample(frac=0.7,random_state=100)\n",
        "x_test=data_read.drop(x_train.index)\n",
        "x_train=x_train.sort_values('age')\n",
        "#printing of data extracted \n",
        "print(x_train)"
      ],
      "execution_count": 30,
      "outputs": [
        {
          "output_type": "stream",
          "text": [
            "      age  sex  chest_pain  asymptomatic  ...  slope   ca  thal  label\n",
            "132  29.0  1.0         2.0         130.0  ...    1.0  0.0   3.0      0\n",
            "101  34.0  1.0         1.0         118.0  ...    1.0  0.0   3.0      0\n",
            "225  34.0  0.0         2.0         118.0  ...    1.0  0.0   3.0      0\n",
            "283  35.0  1.0         2.0         122.0  ...    1.0  0.0   3.0      0\n",
            "117  35.0  0.0         4.0         138.0  ...    1.0  0.0   3.0      0\n",
            "..    ...  ...         ...           ...  ...    ...  ...   ...    ...\n",
            "103  71.0  0.0         3.0         110.0  ...    1.0  1.0   3.0      0\n",
            "273  71.0  0.0         4.0         112.0  ...    2.0  0.0   3.0      0\n",
            "233  74.0  0.0         2.0         120.0  ...    1.0  1.0   3.0      0\n",
            "257  76.0  0.0         3.0         140.0  ...    2.0  0.0   3.0      0\n",
            "161  77.0  1.0         4.0         125.0  ...    1.0  3.0   3.0      1\n",
            "\n",
            "[212 rows x 14 columns]\n"
          ],
          "name": "stdout"
        }
      ]
    },
    {
      "cell_type": "code",
      "metadata": {
        "id": "Mp6HLEZmQq3B",
        "outputId": "475ec84b-4494-45f9-a397-426944450c30",
        "colab": {
          "base_uri": "https://localhost:8080/"
        }
      },
      "source": [
        "age=np.array(x_train['age'].values)\n",
        "label=np.array(x_train['label'].values)\n",
        "\n",
        "#0 is negative label\n",
        "# 1 is positive label\n",
        "pstvs=np.count_nonzero(label == 1)\n",
        "negatvs=np.count_nonzero(label == 0)\n",
        "\n",
        "x=len(age)\n",
        "print('considered age')\n",
        "print(age)\n",
        "cnt1,cnt2=0,0\n",
        "min1=float('inf')\n",
        "\n",
        "\n",
        "#we calculate Best_age which refers to the best age below \n",
        "for i in range(x-1):\n",
        "    if label[i]==1:\n",
        "        cnt1=cnt1+1\n",
        "    else:\n",
        "        cnt2=cnt1+1\n",
        "    if age[i]==age[i+1]:\n",
        "        continue\n",
        "    ans=(age[i] + age[i + 1]) / 2\n",
        "    imp=Gini_impurity(cnt1,cnt2,pstvs-cnt1,negatvs-cnt2)\n",
        "    if imp<min1:\n",
        "        mini_gini_impurity=imp\n",
        "        Best_age=ans  \n",
        "        \n",
        "\n",
        "print('\\n')\n",
        "print('Best age is  =',Best_age)\n",
        "print('Minimum Gini impurity =', mini_gini_impurity)\n",
        "print(f'\\n Best classification is obtained at the age of {Best_age} years having  the least Gini impurity of {round(mini_gini_impurity, 3)}.')\n",
        "\n",
        "\n",
        "#Testing age \n",
        "AgeTest = np.array(x_test['age'].values)\n",
        "crt = 0\n",
        "n = len(AgeTest) \n",
        "for i in range(n):\n",
        "    prediction = 1 if AgeTest[i] > Best_age else 0\n",
        "    if prediction == label[i]:\n",
        "        crt =crt+ 1\n",
        "\n",
        "\n",
        "\n",
        "accuracy = (crt / n) * 100\n",
        "print(accuracy)\n",
        "\n"
      ],
      "execution_count": 40,
      "outputs": [
        {
          "output_type": "stream",
          "text": [
            "considered age\n",
            "[29. 34. 34. 35. 35. 35. 37. 37. 38. 39. 39. 39. 39. 40. 40. 40. 41. 41.\n",
            " 41. 41. 42. 42. 42. 42. 42. 42. 42. 43. 43. 43. 43. 43. 44. 44. 44. 44.\n",
            " 44. 44. 44. 45. 45. 45. 45. 45. 45. 45. 46. 46. 46. 46. 46. 46. 47. 47.\n",
            " 47. 48. 48. 48. 48. 48. 48. 49. 49. 49. 49. 50. 50. 50. 50. 50. 51. 51.\n",
            " 51. 51. 51. 51. 51. 51. 51. 51. 51. 52. 52. 52. 52. 52. 52. 53. 53. 53.\n",
            " 53. 53. 53. 53. 54. 54. 54. 54. 54. 54. 54. 54. 54. 55. 55. 55. 55. 55.\n",
            " 55. 56. 56. 56. 56. 56. 56. 56. 56. 57. 57. 57. 57. 57. 57. 57. 57. 57.\n",
            " 57. 57. 58. 58. 58. 58. 58. 58. 58. 58. 58. 58. 58. 58. 58. 58. 58. 58.\n",
            " 58. 59. 59. 59. 59. 59. 59. 60. 60. 60. 60. 60. 60. 60. 60. 60. 61. 61.\n",
            " 61. 61. 61. 61. 62. 62. 62. 62. 62. 63. 63. 63. 63. 63. 64. 64. 64. 64.\n",
            " 64. 64. 64. 64. 65. 65. 65. 65. 65. 65. 66. 66. 66. 66. 66. 66. 67. 67.\n",
            " 67. 67. 68. 68. 68. 69. 70. 70. 71. 71. 71. 74. 76. 77.]\n",
            "\n",
            "\n",
            "Best age is  = 76.5\n",
            "Minimum Gini impurity = 0.165484032747777\n",
            "\n",
            " Best classification is obtained at the age of 76.5 years having  the least Gini impurity of 0.165.\n",
            "69.23076923076923\n"
          ],
          "name": "stdout"
        }
      ]
    }
  ]
}