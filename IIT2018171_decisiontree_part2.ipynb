{
  "nbformat": 4,
  "nbformat_minor": 0,
  "metadata": {
    "kernelspec": {
      "display_name": "Python 3",
      "language": "python",
      "name": "python3"
    },
    "language_info": {
      "codemirror_mode": {
        "name": "ipython",
        "version": 3
      },
      "file_extension": ".py",
      "mimetype": "text/x-python",
      "name": "python",
      "nbconvert_exporter": "python",
      "pygments_lexer": "ipython3",
      "version": "3.6.9"
    },
    "colab": {
      "name": "IIT2018171_decisiontree_part2.ipynb",
      "provenance": []
    }
  },
  "cells": [
    {
      "cell_type": "code",
      "metadata": {
        "id": "OB_gyy5QhvFc"
      },
      "source": [
        "#problem 2  \n",
        "#Sushant Singh(IIT2018171)"
      ],
      "execution_count": 1,
      "outputs": []
    },
    {
      "cell_type": "code",
      "metadata": {
        "id": "6d40QMa7hvFl"
      },
      "source": [
        "import pandas as pd\n",
        "import numpy as np\n",
        "from csv import DictReader\n",
        "from math import log2\n",
        "\n"
      ],
      "execution_count": 58,
      "outputs": []
    },
    {
      "cell_type": "code",
      "metadata": {
        "id": "EH6SVlbZhvFr",
        "outputId": "58d63955-b735-4cbe-b0e4-5c1c0fe3c08d",
        "colab": {
          "base_uri": "https://localhost:8080/"
        }
      },
      "source": [
        "Head_01=['age','sex','chest_pain','asymptomatic','chol','fbs','restecg','thalach','exang','oldpeak','slope','ca','thal','label']\n",
        "data_read=pd.read_csv('cleveland.csv',sep=',',header=None,names=Head_01)\n",
        "print(data_read.head())\n"
      ],
      "execution_count": 70,
      "outputs": [
        {
          "output_type": "stream",
          "text": [
            "    age  sex  chest_pain  asymptomatic   chol  ...  oldpeak  slope   ca  thal  label\n",
            "0  63.0  1.0         1.0         145.0  233.0  ...      2.3    3.0  0.0   6.0      0\n",
            "1  67.0  1.0         4.0         160.0  286.0  ...      1.5    2.0  3.0   3.0      1\n",
            "2  67.0  1.0         4.0         120.0  229.0  ...      2.6    2.0  2.0   7.0      1\n",
            "3  37.0  1.0         3.0         130.0  250.0  ...      3.5    3.0  0.0   3.0      0\n",
            "4  41.0  0.0         2.0         130.0  204.0  ...      1.4    1.0  0.0   3.0      0\n",
            "\n",
            "[5 rows x 14 columns]\n"
          ],
          "name": "stdout"
        }
      ]
    },
    {
      "cell_type": "code",
      "metadata": {
        "id": "YMTp8kdWhvFx",
        "outputId": "9e49c737-31e3-44f1-98ba-efa573266034",
        "colab": {
          "base_uri": "https://localhost:8080/"
        }
      },
      "source": [
        "data_read.loc[df['label'] > 0, 'label'] = 1\n",
        "print(data_read.head())  "
      ],
      "execution_count": 71,
      "outputs": [
        {
          "output_type": "stream",
          "text": [
            "    age  sex  chest_pain  asymptomatic   chol  ...  oldpeak  slope   ca  thal  label\n",
            "0  63.0  1.0         1.0         145.0  233.0  ...      2.3    3.0  0.0   6.0      0\n",
            "1  67.0  1.0         4.0         160.0  286.0  ...      1.5    2.0  3.0   3.0      1\n",
            "2  67.0  1.0         4.0         120.0  229.0  ...      2.6    2.0  2.0   7.0      1\n",
            "3  37.0  1.0         3.0         130.0  250.0  ...      3.5    3.0  0.0   3.0      0\n",
            "4  41.0  0.0         2.0         130.0  204.0  ...      1.4    1.0  0.0   3.0      0\n",
            "\n",
            "[5 rows x 14 columns]\n"
          ],
          "name": "stdout"
        }
      ]
    },
    {
      "cell_type": "code",
      "metadata": {
        "id": "_NOAyOBfhvGA",
        "outputId": "19dc36df-4cc2-491e-917b-e51bfd80e5f9",
        "colab": {
          "base_uri": "https://localhost:8080/"
        }
      },
      "source": [
        "# saparation of  training and test data \n",
        "x_train=data_read.sample(frac=0.7,random_state=100)\n",
        "x_test=data_read.drop(x_train.index)\n",
        "x_train=x_train.sort_values('age')\n",
        "#printing of data extracted \n",
        "print(x_train)"
      ],
      "execution_count": 72,
      "outputs": [
        {
          "output_type": "stream",
          "text": [
            "      age  sex  chest_pain  asymptomatic  ...  slope   ca  thal  label\n",
            "132  29.0  1.0         2.0         130.0  ...    1.0  0.0   3.0      0\n",
            "101  34.0  1.0         1.0         118.0  ...    1.0  0.0   3.0      0\n",
            "225  34.0  0.0         2.0         118.0  ...    1.0  0.0   3.0      0\n",
            "283  35.0  1.0         2.0         122.0  ...    1.0  0.0   3.0      0\n",
            "117  35.0  0.0         4.0         138.0  ...    1.0  0.0   3.0      0\n",
            "..    ...  ...         ...           ...  ...    ...  ...   ...    ...\n",
            "103  71.0  0.0         3.0         110.0  ...    1.0  1.0   3.0      0\n",
            "273  71.0  0.0         4.0         112.0  ...    2.0  0.0   3.0      0\n",
            "233  74.0  0.0         2.0         120.0  ...    1.0  1.0   3.0      0\n",
            "257  76.0  0.0         3.0         140.0  ...    2.0  0.0   3.0      0\n",
            "161  77.0  1.0         4.0         125.0  ...    1.0  3.0   3.0      1\n",
            "\n",
            "[212 rows x 14 columns]\n"
          ],
          "name": "stdout"
        }
      ]
    },
    {
      "cell_type": "code",
      "metadata": {
        "id": "MW2AaRk_hvGM",
        "outputId": "57358532-58d1-41e7-fbb5-97ec95729d20",
        "colab": {
          "base_uri": "https://localhost:8080/"
        }
      },
      "source": [
        "# splitting into training and test data\n",
        "x_train=df.sample(frac=0.7,random_state=200)\n",
        "x_test=df.drop(x_train.index)\n",
        "x_train=x_train.sort_values('age')\n",
        "print(x_train)"
      ],
      "execution_count": 73,
      "outputs": [
        {
          "output_type": "stream",
          "text": [
            "      age  sex   cp  trestbps   chol  ...  oldpeak  slope   ca  thal  label\n",
            "132  29.0  1.0  2.0     130.0  204.0  ...      0.0    1.0  0.0   3.0      0\n",
            "101  34.0  1.0  1.0     118.0  182.0  ...      0.0    1.0  0.0   3.0      0\n",
            "225  34.0  0.0  2.0     118.0  210.0  ...      0.7    1.0  0.0   3.0      0\n",
            "117  35.0  0.0  4.0     138.0  183.0  ...      1.4    1.0  0.0   3.0      0\n",
            "138  35.0  1.0  4.0     120.0  198.0  ...      1.6    2.0  0.0   7.0      1\n",
            "..    ...  ...  ...       ...    ...  ...      ...    ...  ...   ...    ...\n",
            "170  70.0  1.0  3.0     160.0  269.0  ...      2.9    2.0  1.0   7.0      1\n",
            "258  70.0  1.0  2.0     156.0  245.0  ...      0.0    1.0  0.0   3.0      0\n",
            "136  70.0  1.0  4.0     145.0  174.0  ...      2.6    3.0  0.0   7.0      1\n",
            "103  71.0  0.0  3.0     110.0  265.0  ...      0.0    1.0  1.0   3.0      0\n",
            "233  74.0  0.0  2.0     120.0  269.0  ...      0.2    1.0  1.0   3.0      0\n",
            "\n",
            "[212 rows x 14 columns]\n"
          ],
          "name": "stdout"
        }
      ]
    },
    {
      "cell_type": "code",
      "metadata": {
        "id": "XrjUKu6KhvHY"
      },
      "source": [
        "#Reference has been taken from geek-for-geeks and some other github for better undestanding of information_gain \n",
        "def information_gain(positives,negatives,pos,neg):\n",
        "    tot=positives+negatives\n",
        "    p_pos = positives / tot\n",
        "    p_neg = negatives / tot\n",
        "    ent=entropy(positives,negatives)\n",
        "    total = positives + negatives\n",
        "    left = pos + neg\n",
        "    right = total - left\n",
        "    return ent - (left / total) * entropy(pos, neg) - (right / total) * entropy(positives - pos, negatives - neg)"
      ],
      "execution_count": 74,
      "outputs": []
    },
    {
      "cell_type": "code",
      "metadata": {
        "id": "WT8vcqZlhvHT"
      },
      "source": [
        "def entropy(pos, neg):\n",
        "    total = pos + neg\n",
        "    p_pos = pos / total\n",
        "    p_neg = neg / total\n",
        "\n",
        "    return -(p_pos * log2(p_pos)) - (p_neg * log2(p_neg))"
      ],
      "execution_count": 75,
      "outputs": []
    },
    {
      "cell_type": "code",
      "metadata": {
        "id": "6amVxtiAhvHH"
      },
      "source": [
        "slope=age=np.array(x_train['slope'].values)\n",
        "label = np.array(x_train['label'].values)\n",
        "slope_test=np.array(x_test['slope'].values)\n",
        "label_test=np.array(x_test['label'].values)\n",
        "#0 is negative label\n",
        "# 1 is positive label\n",
        "positives=np.count_nonzero(label == 1)\n",
        "negatives=np.count_nonzero(label == 0)"
      ],
      "execution_count": 76,
      "outputs": []
    },
    {
      "cell_type": "code",
      "metadata": {
        "id": "lv_IkhwJhvHc"
      },
      "source": [
        "cnt1=0 \n",
        "cnt2=0\n",
        "cnt3=0\n",
        "cnt4=0"
      ],
      "execution_count": 77,
      "outputs": []
    },
    {
      "cell_type": "code",
      "metadata": {
        "id": "S-aVnMUehvHg"
      },
      "source": [
        "x=len(age)\n",
        "for i in range(x):\n",
        "    if label[i] == 1:\n",
        "        if slope[i] == 1:\n",
        "            cnt1=cnt1+ 1\n",
        "        elif slope[i] == 2:\n",
        "            cnt3=cnt3+ 1\n",
        "        else:\n",
        "            continue\n",
        "    else:\n",
        "        if slope[i] == 1:\n",
        "            cnt2=cnt2+ 1\n",
        "        elif slope[i] == 2:\n",
        "            cnt4=cnt4+ 1\n",
        "        else:\n",
        "            continue\n"
      ],
      "execution_count": 78,
      "outputs": []
    },
    {
      "cell_type": "code",
      "metadata": {
        "id": "JMIUtbtt4E3p",
        "outputId": "6f0401ec-838f-403e-e8fa-aa0ccb6d100a",
        "colab": {
          "base_uri": "https://localhost:8080/"
        }
      },
      "source": [
        "info_gain1=information_gain(positives,negatives,count1,count2)\n",
        "info_gain2=information_gain(positives,negatives,count1+count3,count2+count4)\n",
        "slope_best= 1 if info_gain1>info_gain2 else 2\n",
        "max_info_gain = max(info_gain1, info_gain2)\n",
        "print('best slope is ',slope_best)\n",
        "print('Maximum information gain =', max_info_gain)"
      ],
      "execution_count": 79,
      "outputs": [
        {
          "output_type": "stream",
          "text": [
            "best slope is  1\n",
            "Maximum information gain = 0.11318332461369346\n"
          ],
          "name": "stdout"
        }
      ]
    },
    {
      "cell_type": "code",
      "metadata": {
        "id": "xduVZ3SThvHm",
        "outputId": "82edd2e2-9978-47a3-9b7e-f4fedcc71ed1",
        "colab": {
          "base_uri": "https://localhost:8080/"
        }
      },
      "source": [
        "crct = 0\n",
        "n = len(age_test) \n",
        "for i in range(n):\n",
        "    prediction = 1 if age_test[i] > slope_best else 0\n",
        "    if prediction == label[i]:\n",
        "        crct =crct+ 1\n",
        "accuracy = (correct / n) * 100\n",
        "print(accuracy) "
      ],
      "execution_count": 69,
      "outputs": [
        {
          "output_type": "stream",
          "text": [
            "31.868131868131865\n"
          ],
          "name": "stdout"
        }
      ]
    }
  ]
}